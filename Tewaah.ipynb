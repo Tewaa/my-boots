{
 "cells": [
  {
   "cell_type": "code",
   "execution_count": 1,
   "id": "36baf9b8",
   "metadata": {},
   "outputs": [],
   "source": [
    "import numpy as np"
   ]
  },
  {
   "cell_type": "code",
   "execution_count": 2,
   "id": "ae2bd484",
   "metadata": {},
   "outputs": [],
   "source": [
    "a = np.linspace(-np.pi,np.pi,100)\n",
    "b = np.cos(a)\n",
    "c = np.sin(a)"
   ]
  },
  {
   "cell_type": "code",
   "execution_count": 3,
   "id": "21f772ee",
   "metadata": {},
   "outputs": [
    {
     "data": {
      "text/plain": [
       "-1.8041124150158794e-16"
      ]
     },
     "execution_count": 3,
     "metadata": {},
     "output_type": "execute_result"
    }
   ],
   "source": [
    "b@c"
   ]
  },
  {
   "cell_type": "code",
   "execution_count": 4,
   "id": "18f9fdc8",
   "metadata": {},
   "outputs": [
    {
     "data": {
      "text/plain": [
       "array([-3.14159265, -3.07812614, -3.01465962, -2.9511931 , -2.88772658,\n",
       "       -2.82426006, -2.76079354, -2.69732703, -2.63386051, -2.57039399,\n",
       "       -2.50692747, -2.44346095, -2.37999443, -2.31652792, -2.2530614 ,\n",
       "       -2.18959488, -2.12612836, -2.06266184, -1.99919533, -1.93572881,\n",
       "       -1.87226229, -1.80879577, -1.74532925, -1.68186273, -1.61839622,\n",
       "       -1.5549297 , -1.49146318, -1.42799666, -1.36453014, -1.30106362,\n",
       "       -1.23759711, -1.17413059, -1.11066407, -1.04719755, -0.98373103,\n",
       "       -0.92026451, -0.856798  , -0.79333148, -0.72986496, -0.66639844,\n",
       "       -0.60293192, -0.53946541, -0.47599889, -0.41253237, -0.34906585,\n",
       "       -0.28559933, -0.22213281, -0.1586663 , -0.09519978, -0.03173326,\n",
       "        0.03173326,  0.09519978,  0.1586663 ,  0.22213281,  0.28559933,\n",
       "        0.34906585,  0.41253237,  0.47599889,  0.53946541,  0.60293192,\n",
       "        0.66639844,  0.72986496,  0.79333148,  0.856798  ,  0.92026451,\n",
       "        0.98373103,  1.04719755,  1.11066407,  1.17413059,  1.23759711,\n",
       "        1.30106362,  1.36453014,  1.42799666,  1.49146318,  1.5549297 ,\n",
       "        1.61839622,  1.68186273,  1.74532925,  1.80879577,  1.87226229,\n",
       "        1.93572881,  1.99919533,  2.06266184,  2.12612836,  2.18959488,\n",
       "        2.2530614 ,  2.31652792,  2.37999443,  2.44346095,  2.50692747,\n",
       "        2.57039399,  2.63386051,  2.69732703,  2.76079354,  2.82426006,\n",
       "        2.88772658,  2.9511931 ,  3.01465962,  3.07812614,  3.14159265])"
      ]
     },
     "execution_count": 4,
     "metadata": {},
     "output_type": "execute_result"
    }
   ],
   "source": [
    "a"
   ]
  },
  {
   "cell_type": "code",
   "execution_count": 5,
   "id": "15f1f5f9",
   "metadata": {},
   "outputs": [
    {
     "data": {
      "text/plain": [
       "array([-1.        , -0.99798668, -0.99195481, -0.9819287 , -0.9679487 ,\n",
       "       -0.95007112, -0.92836793, -0.90292654, -0.87384938, -0.84125353,\n",
       "       -0.80527026, -0.76604444, -0.72373404, -0.67850941, -0.63055267,\n",
       "       -0.58005691, -0.52722547, -0.47227107, -0.41541501, -0.35688622,\n",
       "       -0.29692038, -0.23575894, -0.17364818, -0.1108382 , -0.04758192,\n",
       "        0.01586596,  0.07924996,  0.14231484,  0.20480667,  0.26647381,\n",
       "        0.32706796,  0.38634513,  0.44406661,  0.5       ,  0.55392006,\n",
       "        0.60560969,  0.65486073,  0.70147489,  0.74526445,  0.78605309,\n",
       "        0.82367658,  0.85798341,  0.88883545,  0.91610846,  0.93969262,\n",
       "        0.95949297,  0.97542979,  0.98743889,  0.99547192,  0.99949654,\n",
       "        0.99949654,  0.99547192,  0.98743889,  0.97542979,  0.95949297,\n",
       "        0.93969262,  0.91610846,  0.88883545,  0.85798341,  0.82367658,\n",
       "        0.78605309,  0.74526445,  0.70147489,  0.65486073,  0.60560969,\n",
       "        0.55392006,  0.5       ,  0.44406661,  0.38634513,  0.32706796,\n",
       "        0.26647381,  0.20480667,  0.14231484,  0.07924996,  0.01586596,\n",
       "       -0.04758192, -0.1108382 , -0.17364818, -0.23575894, -0.29692038,\n",
       "       -0.35688622, -0.41541501, -0.47227107, -0.52722547, -0.58005691,\n",
       "       -0.63055267, -0.67850941, -0.72373404, -0.76604444, -0.80527026,\n",
       "       -0.84125353, -0.87384938, -0.90292654, -0.92836793, -0.95007112,\n",
       "       -0.9679487 , -0.9819287 , -0.99195481, -0.99798668, -1.        ])"
      ]
     },
     "execution_count": 5,
     "metadata": {},
     "output_type": "execute_result"
    }
   ],
   "source": [
    "b"
   ]
  },
  {
   "cell_type": "code",
   "execution_count": 6,
   "id": "62c4c307",
   "metadata": {},
   "outputs": [
    {
     "data": {
      "text/plain": [
       "array([-1.22464680e-16, -6.34239197e-02, -1.26592454e-01, -1.89251244e-01,\n",
       "       -2.51147987e-01, -3.12033446e-01, -3.71662456e-01, -4.29794912e-01,\n",
       "       -4.86196736e-01, -5.40640817e-01, -5.92907929e-01, -6.42787610e-01,\n",
       "       -6.90079011e-01, -7.34591709e-01, -7.76146464e-01, -8.14575952e-01,\n",
       "       -8.49725430e-01, -8.81453363e-01, -9.09631995e-01, -9.34147860e-01,\n",
       "       -9.54902241e-01, -9.71811568e-01, -9.84807753e-01, -9.93838464e-01,\n",
       "       -9.98867339e-01, -9.99874128e-01, -9.96854776e-01, -9.89821442e-01,\n",
       "       -9.78802446e-01, -9.63842159e-01, -9.45000819e-01, -9.22354294e-01,\n",
       "       -8.95993774e-01, -8.66025404e-01, -8.32569855e-01, -7.95761841e-01,\n",
       "       -7.55749574e-01, -7.12694171e-01, -6.66769001e-01, -6.18158986e-01,\n",
       "       -5.67059864e-01, -5.13677392e-01, -4.58226522e-01, -4.00930535e-01,\n",
       "       -3.42020143e-01, -2.81732557e-01, -2.20310533e-01, -1.58001396e-01,\n",
       "       -9.50560433e-02, -3.17279335e-02,  3.17279335e-02,  9.50560433e-02,\n",
       "        1.58001396e-01,  2.20310533e-01,  2.81732557e-01,  3.42020143e-01,\n",
       "        4.00930535e-01,  4.58226522e-01,  5.13677392e-01,  5.67059864e-01,\n",
       "        6.18158986e-01,  6.66769001e-01,  7.12694171e-01,  7.55749574e-01,\n",
       "        7.95761841e-01,  8.32569855e-01,  8.66025404e-01,  8.95993774e-01,\n",
       "        9.22354294e-01,  9.45000819e-01,  9.63842159e-01,  9.78802446e-01,\n",
       "        9.89821442e-01,  9.96854776e-01,  9.99874128e-01,  9.98867339e-01,\n",
       "        9.93838464e-01,  9.84807753e-01,  9.71811568e-01,  9.54902241e-01,\n",
       "        9.34147860e-01,  9.09631995e-01,  8.81453363e-01,  8.49725430e-01,\n",
       "        8.14575952e-01,  7.76146464e-01,  7.34591709e-01,  6.90079011e-01,\n",
       "        6.42787610e-01,  5.92907929e-01,  5.40640817e-01,  4.86196736e-01,\n",
       "        4.29794912e-01,  3.71662456e-01,  3.12033446e-01,  2.51147987e-01,\n",
       "        1.89251244e-01,  1.26592454e-01,  6.34239197e-02,  1.22464680e-16])"
      ]
     },
     "execution_count": 6,
     "metadata": {},
     "output_type": "execute_result"
    }
   ],
   "source": [
    "c"
   ]
  },
  {
   "cell_type": "code",
   "execution_count": 7,
   "id": "de713b43",
   "metadata": {},
   "outputs": [
    {
     "data": {
      "text/plain": [
       "-0.0"
      ]
     },
     "execution_count": 7,
     "metadata": {},
     "output_type": "execute_result"
    }
   ],
   "source": [
    "(b@c).round(2)"
   ]
  },
  {
   "cell_type": "code",
   "execution_count": 8,
   "id": "ecb0cafe",
   "metadata": {},
   "outputs": [],
   "source": [
    "from scipy.stats import norm\n",
    "from scipy.integrate import quad"
   ]
  },
  {
   "cell_type": "code",
   "execution_count": 9,
   "id": "7f0daf5b",
   "metadata": {},
   "outputs": [],
   "source": [
    "ϕ = norm()"
   ]
  },
  {
   "cell_type": "code",
   "execution_count": 10,
   "id": "349efca5",
   "metadata": {},
   "outputs": [],
   "source": [
    "value, error = quad(ϕ.pdf, -2,2)"
   ]
  },
  {
   "cell_type": "code",
   "execution_count": 11,
   "id": "1c47a0dd",
   "metadata": {},
   "outputs": [
    {
     "data": {
      "text/plain": [
       "0.9544997361036417"
      ]
     },
     "execution_count": 11,
     "metadata": {},
     "output_type": "execute_result"
    }
   ],
   "source": [
    "value"
   ]
  },
  {
   "cell_type": "code",
   "execution_count": 12,
   "id": "99930ef0",
   "metadata": {},
   "outputs": [
    {
     "data": {
      "text/plain": [
       "1.8403548653972355e-11"
      ]
     },
     "execution_count": 12,
     "metadata": {},
     "output_type": "execute_result"
    }
   ],
   "source": [
    "error"
   ]
  },
  {
   "cell_type": "code",
   "execution_count": 13,
   "id": "03cd0849",
   "metadata": {},
   "outputs": [
    {
     "data": {
      "text/plain": [
       "-3"
      ]
     },
     "execution_count": 13,
     "metadata": {},
     "output_type": "execute_result"
    }
   ],
   "source": [
    "-3"
   ]
  },
  {
   "cell_type": "code",
   "execution_count": 14,
   "id": "d462143d",
   "metadata": {},
   "outputs": [],
   "source": [
    "from sympy import symbols"
   ]
  },
  {
   "cell_type": "code",
   "execution_count": 15,
   "id": "0db1b918",
   "metadata": {},
   "outputs": [],
   "source": [
    "x, y = symbols ('x,y')"
   ]
  },
  {
   "cell_type": "code",
   "execution_count": 16,
   "id": "ee0e9bab",
   "metadata": {},
   "outputs": [
    {
     "data": {
      "text/latex": [
       "$\\displaystyle 3 x + y$"
      ],
      "text/plain": [
       "3*x + y"
      ]
     },
     "execution_count": 16,
     "metadata": {},
     "output_type": "execute_result"
    }
   ],
   "source": [
    "x+x+x+y"
   ]
  },
  {
   "cell_type": "code",
   "execution_count": 17,
   "id": "14bd36a4",
   "metadata": {},
   "outputs": [],
   "source": [
    "import sympy"
   ]
  },
  {
   "cell_type": "code",
   "execution_count": null,
   "id": "fb79bf26",
   "metadata": {},
   "outputs": [],
   "source": [
    "sympy."
   ]
  },
  {
   "cell_type": "code",
   "execution_count": 18,
   "id": "82d7a211",
   "metadata": {},
   "outputs": [],
   "source": [
    "from sympy import *"
   ]
  },
  {
   "cell_type": "code",
   "execution_count": 19,
   "id": "07ccea06",
   "metadata": {},
   "outputs": [],
   "source": [
    "expression = (x + y)**2"
   ]
  },
  {
   "cell_type": "code",
   "execution_count": 20,
   "id": "c24f7941",
   "metadata": {},
   "outputs": [
    {
     "data": {
      "text/latex": [
       "$\\displaystyle x^{2} + 2 x y + y^{2}$"
      ],
      "text/plain": [
       "x**2 + 2*x*y + y**2"
      ]
     },
     "execution_count": 20,
     "metadata": {},
     "output_type": "execute_result"
    }
   ],
   "source": [
    "expression.expand()"
   ]
  },
  {
   "cell_type": "code",
   "execution_count": 21,
   "id": "b3e76467",
   "metadata": {},
   "outputs": [
    {
     "data": {
      "text/plain": [
       "[-1/2 - sqrt(7)*I/2, -1/2 + sqrt(7)*I/2]"
      ]
     },
     "execution_count": 21,
     "metadata": {},
     "output_type": "execute_result"
    }
   ],
   "source": [
    "solve (x**2 + x + 2)"
   ]
  },
  {
   "cell_type": "code",
   "execution_count": 22,
   "id": "ae4991a0",
   "metadata": {},
   "outputs": [
    {
     "data": {
      "text/latex": [
       "$\\displaystyle \\cos{\\left(x \\right)}$"
      ],
      "text/plain": [
       "cos(x)"
      ]
     },
     "execution_count": 22,
     "metadata": {},
     "output_type": "execute_result"
    }
   ],
   "source": [
    "diff (sin(x), x)"
   ]
  },
  {
   "cell_type": "code",
   "execution_count": 23,
   "id": "2e12c673",
   "metadata": {},
   "outputs": [
    {
     "data": {
      "text/latex": [
       "$\\displaystyle \\tan^{2}{\\left(x \\right)} + 1$"
      ],
      "text/plain": [
       "tan(x)**2 + 1"
      ]
     },
     "execution_count": 23,
     "metadata": {},
     "output_type": "execute_result"
    }
   ],
   "source": [
    "diff (tan(x), x)"
   ]
  },
  {
   "cell_type": "code",
   "execution_count": 24,
   "id": "9f5b930f",
   "metadata": {},
   "outputs": [],
   "source": [
    "import pandas as pd\n",
    "np.random.seed(1234)"
   ]
  },
  {
   "cell_type": "code",
   "execution_count": 25,
   "id": "79879f33",
   "metadata": {},
   "outputs": [],
   "source": [
    "data = np.random.randn (5, 2)"
   ]
  },
  {
   "cell_type": "code",
   "execution_count": 26,
   "id": "ec138e14",
   "metadata": {},
   "outputs": [
    {
     "data": {
      "text/plain": [
       "array([[ 0.47143516, -1.19097569],\n",
       "       [ 1.43270697, -0.3126519 ],\n",
       "       [-0.72058873,  0.88716294],\n",
       "       [ 0.85958841, -0.6365235 ],\n",
       "       [ 0.01569637, -2.24268495]])"
      ]
     },
     "execution_count": 26,
     "metadata": {},
     "output_type": "execute_result"
    }
   ],
   "source": [
    "data "
   ]
  },
  {
   "cell_type": "code",
   "execution_count": 27,
   "id": "76ce16aa",
   "metadata": {},
   "outputs": [],
   "source": [
    "dates = pd.date_range ('28/ 12/2010', periods = 5)"
   ]
  },
  {
   "cell_type": "code",
   "execution_count": 28,
   "id": "2fbbb9f1",
   "metadata": {},
   "outputs": [
    {
     "data": {
      "text/plain": [
       "DatetimeIndex(['2010-12-28', '2010-12-29', '2010-12-30', '2010-12-31',\n",
       "               '2011-01-01'],\n",
       "              dtype='datetime64[ns]', freq='D')"
      ]
     },
     "execution_count": 28,
     "metadata": {},
     "output_type": "execute_result"
    }
   ],
   "source": [
    "dates"
   ]
  },
  {
   "cell_type": "code",
   "execution_count": 29,
   "id": "dc6c7571",
   "metadata": {},
   "outputs": [],
   "source": [
    "df = pd.DataFrame (data, columns = ('price', 'weight'), index = dates)"
   ]
  },
  {
   "cell_type": "code",
   "execution_count": 30,
   "id": "2d9d68c0",
   "metadata": {},
   "outputs": [
    {
     "name": "stdout",
     "output_type": "stream",
     "text": [
      "               price    weight\n",
      "2010-12-28  0.471435 -1.190976\n",
      "2010-12-29  1.432707 -0.312652\n",
      "2010-12-30 -0.720589  0.887163\n",
      "2010-12-31  0.859588 -0.636524\n",
      "2011-01-01  0.015696 -2.242685\n"
     ]
    }
   ],
   "source": [
    "print (df)"
   ]
  },
  {
   "cell_type": "code",
   "execution_count": 31,
   "id": "997f049f",
   "metadata": {},
   "outputs": [
    {
     "data": {
      "text/plain": [
       "price     0.411768\n",
       "weight   -0.699135\n",
       "dtype: float64"
      ]
     },
     "execution_count": 31,
     "metadata": {},
     "output_type": "execute_result"
    }
   ],
   "source": [
    "df.mean ()"
   ]
  },
  {
   "cell_type": "code",
   "execution_count": 7,
   "id": "b0b6c544",
   "metadata": {},
   "outputs": [
    {
     "ename": "SyntaxError",
     "evalue": "invalid syntax (3185976269.py, line 2)",
     "output_type": "error",
     "traceback": [
      "\u001b[1;36m  File \u001b[1;32m\"C:\\Users\\BELINDA\\AppData\\Local\\Temp\\ipykernel_1064\\3185976269.py\"\u001b[1;36m, line \u001b[1;32m2\u001b[0m\n\u001b[1;33m    def quadratic_equation (a, b, c)\u001b[0m\n\u001b[1;37m                                    ^\u001b[0m\n\u001b[1;31mSyntaxError\u001b[0m\u001b[1;31m:\u001b[0m invalid syntax\n"
     ]
    }
   ],
   "source": [
    "\n",
    "    import numpy as np\n",
    "    def quadratic_equation (a, b, c)\n",
    "    def"
   ]
  },
  {
   "cell_type": "code",
   "execution_count": 2,
   "id": "5f0079b6",
   "metadata": {},
   "outputs": [],
   "source": [
    "import cmath\n",
    "\n",
    "def quadratic_equation(a, b, c):\n",
    "    root = cmath.sqrt(b**2 - 4*a*c)\n",
    "    x1 = (-b + root) / (2*a)\n",
    "    x2 = (-b - root) / (2*a)\n",
    "    return x1, x2\n",
    "\n",
    "\n"
   ]
  },
  {
   "cell_type": "code",
   "execution_count": 3,
   "id": "b45dac14",
   "metadata": {},
   "outputs": [
    {
     "name": "stdout",
     "output_type": "stream",
     "text": [
      "((2+0j), (1+0j))\n"
     ]
    }
   ],
   "source": [
    "print(quadratic_equation(1, -3, 2))"
   ]
  },
  {
   "cell_type": "code",
   "execution_count": 5,
   "id": "56834e06",
   "metadata": {},
   "outputs": [],
   "source": [
    "from sympy import symbols , solve\n",
    "\n",
    "def quadratic_equation(a,b,c):\n",
    "    x = symbols ('x')\n",
    "    return solve (a*x**2 + b*c + c , x )\n",
    "    \n",
    "    "
   ]
  },
  {
   "cell_type": "code",
   "execution_count": 6,
   "id": "2274db01",
   "metadata": {},
   "outputs": [
    {
     "name": "stdout",
     "output_type": "stream",
     "text": [
      "[-2, 2]\n"
     ]
    }
   ],
   "source": [
    "print(quadratic_equation(1, -3, 2))"
   ]
  },
  {
   "cell_type": "code",
   "execution_count": 1,
   "id": "1865d8cf",
   "metadata": {},
   "outputs": [],
   "source": [
    "def FutureValue(PV, rate, time): #FV =PV(1+r)**2\n",
    "    result = PV*(1+rate)**time\n",
    "    return result "
   ]
  },
  {
   "cell_type": "code",
   "execution_count": 2,
   "id": "f519aca2",
   "metadata": {},
   "outputs": [],
   "source": [
    "FV = FutureValue(5000, 0.21, 4)"
   ]
  },
  {
   "cell_type": "code",
   "execution_count": 3,
   "id": "1db4282e",
   "metadata": {},
   "outputs": [
    {
     "data": {
      "text/plain": [
       "10717.944049999998"
      ]
     },
     "execution_count": 3,
     "metadata": {},
     "output_type": "execute_result"
    }
   ],
   "source": [
    "FV"
   ]
  },
  {
   "cell_type": "code",
   "execution_count": 4,
   "id": "6d5072a8",
   "metadata": {},
   "outputs": [
    {
     "name": "stdout",
     "output_type": "stream",
     "text": [
      "The Zen of Python, by Tim Peters\n",
      "\n",
      "Beautiful is better than ugly.\n",
      "Explicit is better than implicit.\n",
      "Simple is better than complex.\n",
      "Complex is better than complicated.\n",
      "Flat is better than nested.\n",
      "Sparse is better than dense.\n",
      "Readability counts.\n",
      "Special cases aren't special enough to break the rules.\n",
      "Although practicality beats purity.\n",
      "Errors should never pass silently.\n",
      "Unless explicitly silenced.\n",
      "In the face of ambiguity, refuse the temptation to guess.\n",
      "There should be one-- and preferably only one --obvious way to do it.\n",
      "Although that way may not be obvious at first unless you're Dutch.\n",
      "Now is better than never.\n",
      "Although never is often better than *right* now.\n",
      "If the implementation is hard to explain, it's a bad idea.\n",
      "If the implementation is easy to explain, it may be a good idea.\n",
      "Namespaces are one honking great idea -- let's do more of those!\n"
     ]
    }
   ],
   "source": [
    "import this #string is the combination of characters"
   ]
  },
  {
   "cell_type": "code",
   "execution_count": 5,
   "id": "3ef460a5",
   "metadata": {},
   "outputs": [],
   "source": [
    "print?"
   ]
  },
  {
   "cell_type": "code",
   "execution_count": 6,
   "id": "b0aec934",
   "metadata": {},
   "outputs": [],
   "source": [
    "name = 'Berlinda Atuahene'"
   ]
  },
  {
   "cell_type": "code",
   "execution_count": 7,
   "id": "10b3c669",
   "metadata": {},
   "outputs": [
    {
     "data": {
      "text/plain": [
       "'Berlinda Atuahene'"
      ]
     },
     "execution_count": 7,
     "metadata": {},
     "output_type": "execute_result"
    }
   ],
   "source": [
    "name"
   ]
  },
  {
   "cell_type": "code",
   "execution_count": 8,
   "id": "2de95189",
   "metadata": {},
   "outputs": [
    {
     "data": {
      "text/plain": [
       "<function str.count>"
      ]
     },
     "execution_count": 8,
     "metadata": {},
     "output_type": "execute_result"
    }
   ],
   "source": [
    "name.count"
   ]
  },
  {
   "cell_type": "code",
   "execution_count": 10,
   "id": "ee7c9064",
   "metadata": {},
   "outputs": [
    {
     "ename": "TypeError",
     "evalue": "count() takes at least 1 argument (0 given)",
     "output_type": "error",
     "traceback": [
      "\u001b[1;31m---------------------------------------------------------------------------\u001b[0m",
      "\u001b[1;31mTypeError\u001b[0m                                 Traceback (most recent call last)",
      "\u001b[1;32m~\\AppData\\Local\\Temp\\ipykernel_8320\\1405179183.py\u001b[0m in \u001b[0;36m<module>\u001b[1;34m\u001b[0m\n\u001b[1;32m----> 1\u001b[1;33m \u001b[0mname\u001b[0m\u001b[1;33m.\u001b[0m\u001b[0mcount\u001b[0m \u001b[1;33m(\u001b[0m\u001b[1;33m)\u001b[0m\u001b[1;33m\u001b[0m\u001b[1;33m\u001b[0m\u001b[0m\n\u001b[0m",
      "\u001b[1;31mTypeError\u001b[0m: count() takes at least 1 argument (0 given)"
     ]
    }
   ],
   "source": [
    "name.count ()"
   ]
  },
  {
   "cell_type": "code",
   "execution_count": 11,
   "id": "79a533fb",
   "metadata": {},
   "outputs": [
    {
     "data": {
      "text/plain": [
       "<function str.capitalize()>"
      ]
     },
     "execution_count": 11,
     "metadata": {},
     "output_type": "execute_result"
    }
   ],
   "source": [
    "name.capitalize "
   ]
  },
  {
   "cell_type": "code",
   "execution_count": 12,
   "id": "9bd94544",
   "metadata": {},
   "outputs": [
    {
     "data": {
      "text/plain": [
       "'Berlinda atuahene'"
      ]
     },
     "execution_count": 12,
     "metadata": {},
     "output_type": "execute_result"
    }
   ],
   "source": [
    "name.capitalize()"
   ]
  },
  {
   "cell_type": "code",
   "execution_count": 13,
   "id": "72eb5cfa",
   "metadata": {},
   "outputs": [
    {
     "data": {
      "text/plain": [
       "str"
      ]
     },
     "execution_count": 13,
     "metadata": {},
     "output_type": "execute_result"
    }
   ],
   "source": [
    "type(name)"
   ]
  },
  {
   "cell_type": "code",
   "execution_count": 14,
   "id": "c7a21237",
   "metadata": {},
   "outputs": [
    {
     "data": {
      "text/plain": [
       "3"
      ]
     },
     "execution_count": 14,
     "metadata": {},
     "output_type": "execute_result"
    }
   ],
   "source": [
    "3"
   ]
  },
  {
   "cell_type": "code",
   "execution_count": 17,
   "id": "19aa8e35",
   "metadata": {},
   "outputs": [
    {
     "data": {
      "text/plain": [
       "int"
      ]
     },
     "execution_count": 17,
     "metadata": {},
     "output_type": "execute_result"
    }
   ],
   "source": [
    "type (3)"
   ]
  },
  {
   "cell_type": "code",
   "execution_count": 18,
   "id": "fa9f5471",
   "metadata": {},
   "outputs": [
    {
     "data": {
      "text/plain": [
       "str"
      ]
     },
     "execution_count": 18,
     "metadata": {},
     "output_type": "execute_result"
    }
   ],
   "source": [
    "type('50')"
   ]
  },
  {
   "cell_type": "code",
   "execution_count": 19,
   "id": "ff4d8808",
   "metadata": {},
   "outputs": [],
   "source": [
    "a = '5'\n",
    "b = '15'"
   ]
  },
  {
   "cell_type": "code",
   "execution_count": 20,
   "id": "d6b4591d",
   "metadata": {},
   "outputs": [
    {
     "ename": "TypeError",
     "evalue": "can't multiply sequence by non-int of type 'str'",
     "output_type": "error",
     "traceback": [
      "\u001b[1;31m---------------------------------------------------------------------------\u001b[0m",
      "\u001b[1;31mTypeError\u001b[0m                                 Traceback (most recent call last)",
      "\u001b[1;32m~\\AppData\\Local\\Temp\\ipykernel_8320\\937666681.py\u001b[0m in \u001b[0;36m<module>\u001b[1;34m\u001b[0m\n\u001b[1;32m----> 1\u001b[1;33m \u001b[0ma\u001b[0m \u001b[1;33m*\u001b[0m \u001b[0mb\u001b[0m\u001b[1;33m\u001b[0m\u001b[1;33m\u001b[0m\u001b[0m\n\u001b[0m",
      "\u001b[1;31mTypeError\u001b[0m: can't multiply sequence by non-int of type 'str'"
     ]
    }
   ],
   "source": [
    "a * b"
   ]
  },
  {
   "cell_type": "code",
   "execution_count": 21,
   "id": "77b7e733",
   "metadata": {},
   "outputs": [
    {
     "data": {
      "text/plain": [
       "'555'"
      ]
     },
     "execution_count": 21,
     "metadata": {},
     "output_type": "execute_result"
    }
   ],
   "source": [
    "3 * a"
   ]
  },
  {
   "cell_type": "code",
   "execution_count": 22,
   "id": "23eb91d3",
   "metadata": {},
   "outputs": [
    {
     "data": {
      "text/plain": [
       "'BERLINDA ATUAHENE'"
      ]
     },
     "execution_count": 22,
     "metadata": {},
     "output_type": "execute_result"
    }
   ],
   "source": [
    "name.upper()"
   ]
  },
  {
   "cell_type": "code",
   "execution_count": 23,
   "id": "c399798e",
   "metadata": {},
   "outputs": [
    {
     "data": {
      "text/plain": [
       "'Berlinda atuahene'"
      ]
     },
     "execution_count": 23,
     "metadata": {},
     "output_type": "execute_result"
    }
   ],
   "source": [
    "name.capitalize()"
   ]
  },
  {
   "cell_type": "code",
   "execution_count": 24,
   "id": "9bcb9461",
   "metadata": {},
   "outputs": [
    {
     "data": {
      "text/plain": [
       "'berlinda atuahene'"
      ]
     },
     "execution_count": 24,
     "metadata": {},
     "output_type": "execute_result"
    }
   ],
   "source": [
    "name.lower() #codes must always have whitespace for readability \n",
    "# use backslash for page break \\"
   ]
  },
  {
   "cell_type": "code",
   "execution_count": 25,
   "id": "7199a3c3",
   "metadata": {},
   "outputs": [
    {
     "name": "stdout",
     "output_type": "stream",
     "text": [
      "Hello\tworld\n"
     ]
    }
   ],
   "source": [
    "print ('Hello\\tworld')"
   ]
  },
  {
   "cell_type": "code",
   "execution_count": 26,
   "id": "b5f9a84e",
   "metadata": {},
   "outputs": [
    {
     "name": "stdout",
     "output_type": "stream",
     "text": [
      "Hello\bWorld\n"
     ]
    }
   ],
   "source": [
    "print ('Hello\\bWorld')"
   ]
  },
  {
   "cell_type": "code",
   "execution_count": 27,
   "id": "052e693d",
   "metadata": {},
   "outputs": [],
   "source": [
    "#python has two numbers stored,integers and floats"
   ]
  },
  {
   "cell_type": "code",
   "execution_count": null,
   "id": "06f00fb4",
   "metadata": {},
   "outputs": [],
   "source": []
  },
  {
   "cell_type": "code",
   "execution_count": 31,
   "id": "535d1f2b",
   "metadata": {},
   "outputs": [],
   "source": [
    "import numpy as np #distingusish between stored numbers ie integers and float"
   ]
  },
  {
   "cell_type": "code",
   "execution_count": 32,
   "id": "68cacc9b",
   "metadata": {},
   "outputs": [
    {
     "data": {
      "text/plain": [
       "3.141592653589793"
      ]
     },
     "execution_count": 32,
     "metadata": {},
     "output_type": "execute_result"
    }
   ],
   "source": [
    "np .pi"
   ]
  },
  {
   "cell_type": "code",
   "execution_count": 33,
   "id": "3908a9e9",
   "metadata": {},
   "outputs": [],
   "source": [
    "xi = 1; xf = 1.0"
   ]
  },
  {
   "cell_type": "code",
   "execution_count": 34,
   "id": "649483e1",
   "metadata": {},
   "outputs": [
    {
     "data": {
      "text/plain": [
       "1"
      ]
     },
     "execution_count": 34,
     "metadata": {},
     "output_type": "execute_result"
    }
   ],
   "source": [
    "xi"
   ]
  },
  {
   "cell_type": "code",
   "execution_count": 35,
   "id": "169fe7cd",
   "metadata": {},
   "outputs": [
    {
     "data": {
      "text/plain": [
       "1.0"
      ]
     },
     "execution_count": 35,
     "metadata": {},
     "output_type": "execute_result"
    }
   ],
   "source": [
    "xf"
   ]
  },
  {
   "cell_type": "code",
   "execution_count": 36,
   "id": "3983850c",
   "metadata": {},
   "outputs": [],
   "source": [
    "zf = 1_230.5\n"
   ]
  },
  {
   "cell_type": "code",
   "execution_count": 38,
   "id": "5a9ae370",
   "metadata": {},
   "outputs": [
    {
     "data": {
      "text/plain": [
       "1230.5"
      ]
     },
     "execution_count": 38,
     "metadata": {},
     "output_type": "execute_result"
    }
   ],
   "source": [
    "zf"
   ]
  },
  {
   "cell_type": "markdown",
   "id": "a1b2b084",
   "metadata": {},
   "source": [
    "2 * 1.0"
   ]
  },
  {
   "cell_type": "code",
   "execution_count": 39,
   "id": "b4d28edf",
   "metadata": {},
   "outputs": [
    {
     "data": {
      "text/plain": [
       "2.0"
      ]
     },
     "execution_count": 39,
     "metadata": {},
     "output_type": "execute_result"
    }
   ],
   "source": [
    "2 * 1.0"
   ]
  },
  {
   "cell_type": "code",
   "execution_count": 40,
   "id": "a695fee3",
   "metadata": {},
   "outputs": [
    {
     "data": {
      "text/plain": [
       "2"
      ]
     },
     "execution_count": 40,
     "metadata": {},
     "output_type": "execute_result"
    }
   ],
   "source": [
    "2 * 1"
   ]
  },
  {
   "cell_type": "code",
   "execution_count": 41,
   "id": "819a38ca",
   "metadata": {},
   "outputs": [
    {
     "data": {
      "text/plain": [
       "5.0"
      ]
     },
     "execution_count": 41,
     "metadata": {},
     "output_type": "execute_result"
    }
   ],
   "source": [
    "10 / 2 #in division answers can be  in float"
   ]
  },
  {
   "cell_type": "code",
   "execution_count": 43,
   "id": "066d0190",
   "metadata": {},
   "outputs": [
    {
     "data": {
      "text/plain": [
       "5"
      ]
     },
     "execution_count": 43,
     "metadata": {},
     "output_type": "execute_result"
    }
   ],
   "source": [
    "10 // 2 # double // restricts outputs to integers"
   ]
  },
  {
   "cell_type": "code",
   "execution_count": 44,
   "id": "c1bfd05a",
   "metadata": {},
   "outputs": [],
   "source": [
    "import math "
   ]
  },
  {
   "cell_type": "code",
   "execution_count": 45,
   "id": "6ce19b51",
   "metadata": {},
   "outputs": [
    {
     "data": {
      "text/plain": [
       "0.5984721441039564"
      ]
     },
     "execution_count": 45,
     "metadata": {},
     "output_type": "execute_result"
    }
   ],
   "source": [
    "math.sin(2.5)"
   ]
  },
  {
   "cell_type": "code",
   "execution_count": null,
   "id": "6f3b24d7",
   "metadata": {},
   "outputs": [],
   "source": []
  },
  {
   "cell_type": "code",
   "execution_count": 49,
   "id": "ccfd89b5",
   "metadata": {},
   "outputs": [
    {
     "data": {
      "text/plain": [
       "6.123233995736766e-17"
      ]
     },
     "execution_count": 49,
     "metadata": {},
     "output_type": "execute_result"
    }
   ],
   "source": [
    "math.cos(np.pi/2)"
   ]
  },
  {
   "cell_type": "code",
   "execution_count": 50,
   "id": "94b43fd5",
   "metadata": {},
   "outputs": [
    {
     "ename": "AttributeError",
     "evalue": "'float' object has no attribute 'round'",
     "output_type": "error",
     "traceback": [
      "\u001b[1;31m---------------------------------------------------------------------------\u001b[0m",
      "\u001b[1;31mAttributeError\u001b[0m                            Traceback (most recent call last)",
      "\u001b[1;32m~\\AppData\\Local\\Temp\\ipykernel_8320\\417564243.py\u001b[0m in \u001b[0;36m<module>\u001b[1;34m\u001b[0m\n\u001b[1;32m----> 1\u001b[1;33m \u001b[1;33m(\u001b[0m\u001b[0mmath\u001b[0m\u001b[1;33m.\u001b[0m\u001b[0mcos\u001b[0m\u001b[1;33m(\u001b[0m\u001b[0mnp\u001b[0m\u001b[1;33m.\u001b[0m\u001b[0mpi\u001b[0m\u001b[1;33m/\u001b[0m\u001b[1;36m2\u001b[0m\u001b[1;33m)\u001b[0m\u001b[1;33m)\u001b[0m\u001b[1;33m.\u001b[0m\u001b[0mround\u001b[0m\u001b[1;33m(\u001b[0m\u001b[1;36m2\u001b[0m\u001b[1;33m)\u001b[0m\u001b[1;33m\u001b[0m\u001b[1;33m\u001b[0m\u001b[0m\n\u001b[0m",
      "\u001b[1;31mAttributeError\u001b[0m: 'float' object has no attribute 'round'"
     ]
    }
   ],
   "source": [
    "(math.cos(np.pi/2)).round(2)"
   ]
  },
  {
   "cell_type": "code",
   "execution_count": 53,
   "id": "562923f0",
   "metadata": {},
   "outputs": [
    {
     "data": {
      "text/plain": [
       "6.123233995736766e-17"
      ]
     },
     "execution_count": 53,
     "metadata": {},
     "output_type": "execute_result"
    }
   ],
   "source": [
    "math.cos(np.pi/2)"
   ]
  },
  {
   "cell_type": "code",
   "execution_count": 54,
   "id": "a77728bd",
   "metadata": {},
   "outputs": [
    {
     "data": {
      "text/plain": [
       "-0.8011436155469337"
      ]
     },
     "execution_count": 54,
     "metadata": {},
     "output_type": "execute_result"
    }
   ],
   "source": [
    "np.cos(2.5)"
   ]
  },
  {
   "cell_type": "code",
   "execution_count": 55,
   "id": "c5d91b82",
   "metadata": {},
   "outputs": [
    {
     "data": {
      "text/plain": [
       "-0.8"
      ]
     },
     "execution_count": 55,
     "metadata": {},
     "output_type": "execute_result"
    }
   ],
   "source": [
    "(np.cos(2.5)).round(2)"
   ]
  },
  {
   "cell_type": "code",
   "execution_count": 56,
   "id": "e560df06",
   "metadata": {},
   "outputs": [
    {
     "data": {
      "text/plain": [
       "0.0"
      ]
     },
     "execution_count": 56,
     "metadata": {},
     "output_type": "execute_result"
    }
   ],
   "source": [
    "(np.cos(np.pi/2)).round(2)"
   ]
  },
  {
   "cell_type": "code",
   "execution_count": 57,
   "id": "d5a16d7c",
   "metadata": {},
   "outputs": [
    {
     "data": {
      "text/plain": [
       "3"
      ]
     },
     "execution_count": 57,
     "metadata": {},
     "output_type": "execute_result"
    }
   ],
   "source": [
    "7 // 2"
   ]
  },
  {
   "cell_type": "code",
   "execution_count": 58,
   "id": "0cd4ee72",
   "metadata": {},
   "outputs": [
    {
     "data": {
      "text/plain": [
       "1"
      ]
     },
     "execution_count": 58,
     "metadata": {},
     "output_type": "execute_result"
    }
   ],
   "source": [
    "7 % 2"
   ]
  },
  {
   "cell_type": "code",
   "execution_count": 59,
   "id": "636d363a",
   "metadata": {},
   "outputs": [
    {
     "ename": "SyntaxError",
     "evalue": "invalid syntax (707683720.py, line 1)",
     "output_type": "error",
     "traceback": [
      "\u001b[1;36m  File \u001b[1;32m\"C:\\Users\\BELINDA\\AppData\\Local\\Temp\\ipykernel_8320\\707683720.py\"\u001b[1;36m, line \u001b[1;32m1\u001b[0m\n\u001b[1;33m    this is not a string\u001b[0m\n\u001b[1;37m                  ^\u001b[0m\n\u001b[1;31mSyntaxError\u001b[0m\u001b[1;31m:\u001b[0m invalid syntax\n"
     ]
    }
   ],
   "source": [
    "this is not a string"
   ]
  },
  {
   "cell_type": "code",
   "execution_count": 60,
   "id": "8707d7b0",
   "metadata": {},
   "outputs": [
    {
     "data": {
      "text/plain": [
       "'this is a string'"
      ]
     },
     "execution_count": 60,
     "metadata": {},
     "output_type": "execute_result"
    }
   ],
   "source": [
    "'this is a string'"
   ]
  },
  {
   "cell_type": "code",
   "execution_count": 61,
   "id": "a7adeffb",
   "metadata": {},
   "outputs": [
    {
     "data": {
      "text/plain": [
       "str"
      ]
     },
     "execution_count": 61,
     "metadata": {},
     "output_type": "execute_result"
    }
   ],
   "source": [
    "type('this is a string')"
   ]
  },
  {
   "cell_type": "code",
   "execution_count": 62,
   "id": "761748f3",
   "metadata": {},
   "outputs": [
    {
     "ename": "SyntaxError",
     "evalue": "invalid syntax (2553443880.py, line 1)",
     "output_type": "error",
     "traceback": [
      "\u001b[1;36m  File \u001b[1;32m\"C:\\Users\\BELINDA\\AppData\\Local\\Temp\\ipykernel_8320\\2553443880.py\"\u001b[1;36m, line \u001b[1;32m1\u001b[0m\n\u001b[1;33m    'Jame's Class'\u001b[0m\n\u001b[1;37m          ^\u001b[0m\n\u001b[1;31mSyntaxError\u001b[0m\u001b[1;31m:\u001b[0m invalid syntax\n"
     ]
    }
   ],
   "source": [
    "'Jame's Class' # take notes of quotes inside words"
   ]
  },
  {
   "cell_type": "code",
   "execution_count": 63,
   "id": "1a2e696f",
   "metadata": {},
   "outputs": [
    {
     "data": {
      "text/plain": [
       "\"James's Class\""
      ]
     },
     "execution_count": 63,
     "metadata": {},
     "output_type": "execute_result"
    }
   ],
   "source": [
    "\"James's Class\""
   ]
  },
  {
   "cell_type": "code",
   "execution_count": 68,
   "id": "47f8cfd5",
   "metadata": {},
   "outputs": [
    {
     "ename": "SyntaxError",
     "evalue": "invalid syntax (754657583.py, line 1)",
     "output_type": "error",
     "traceback": [
      "\u001b[1;36m  File \u001b[1;32m\"C:\\Users\\BELINDA\\AppData\\Local\\Temp\\ipykernel_8320\\754657583.py\"\u001b[1;36m, line \u001b[1;32m1\u001b[0m\n\u001b[1;33m    'James's\\Class'\u001b[0m\n\u001b[1;37m           ^\u001b[0m\n\u001b[1;31mSyntaxError\u001b[0m\u001b[1;31m:\u001b[0m invalid syntax\n"
     ]
    }
   ],
   "source": [
    "'James's\\Class'"
   ]
  },
  {
   "cell_type": "code",
   "execution_count": 69,
   "id": "ce259f48",
   "metadata": {},
   "outputs": [],
   "source": [
    "# WE CREATE LISTS WITH SQUARE BRACKETS "
   ]
  },
  {
   "cell_type": "code",
   "execution_count": 70,
   "id": "37885c64",
   "metadata": {},
   "outputs": [
    {
     "data": {
      "text/plain": [
       "[1, 3, 7]"
      ]
     },
     "execution_count": 70,
     "metadata": {},
     "output_type": "execute_result"
    }
   ],
   "source": [
    "[1, 3, 7]"
   ]
  },
  {
   "cell_type": "code",
   "execution_count": 73,
   "id": "471f8bb6",
   "metadata": {},
   "outputs": [],
   "source": [
    "various_things = [1, 2, 'banana', 3.4, [1, 2]] # python starts counting from zero"
   ]
  },
  {
   "cell_type": "code",
   "execution_count": 74,
   "id": "41eb67bb",
   "metadata": {},
   "outputs": [
    {
     "data": {
      "text/plain": [
       "'banana'"
      ]
     },
     "execution_count": 74,
     "metadata": {},
     "output_type": "execute_result"
    }
   ],
   "source": [
    "various_things[2]"
   ]
  },
  {
   "cell_type": "code",
   "execution_count": 75,
   "id": "71ef84c2",
   "metadata": {},
   "outputs": [
    {
     "data": {
      "text/plain": [
       "1"
      ]
     },
     "execution_count": 75,
     "metadata": {},
     "output_type": "execute_result"
    }
   ],
   "source": [
    "index = 0\n",
    "various_things[index]"
   ]
  },
  {
   "cell_type": "code",
   "execution_count": 76,
   "id": "94e7e5fb",
   "metadata": {},
   "outputs": [
    {
     "data": {
      "text/plain": [
       "True"
      ]
     },
     "execution_count": 76,
     "metadata": {},
     "output_type": "execute_result"
    }
   ],
   "source": [
    "\"Dog\" in [\"Cat\",\"Dog\", \"Horse\"]"
   ]
  },
  {
   "cell_type": "code",
   "execution_count": 77,
   "id": "f0b6119e",
   "metadata": {},
   "outputs": [
    {
     "data": {
      "text/plain": [
       "False"
      ]
     },
     "execution_count": 77,
     "metadata": {},
     "output_type": "execute_result"
    }
   ],
   "source": [
    "\"Bird\" in [\"Cat\",\"Dog\", \"Horse\"]"
   ]
  },
  {
   "cell_type": "code",
   "execution_count": 78,
   "id": "b6d81549",
   "metadata": {},
   "outputs": [
    {
     "data": {
      "text/plain": [
       "range(0, 5)"
      ]
     },
     "execution_count": 78,
     "metadata": {},
     "output_type": "execute_result"
    }
   ],
   "source": [
    "range (5)"
   ]
  },
  {
   "cell_type": "code",
   "execution_count": 79,
   "id": "6f20e12c",
   "metadata": {},
   "outputs": [
    {
     "data": {
      "text/plain": [
       "[0, 1, 2, 3, 4]"
      ]
     },
     "execution_count": 79,
     "metadata": {},
     "output_type": "execute_result"
    }
   ],
   "source": [
    "list (range (5)) #range is always n-1"
   ]
  },
  {
   "cell_type": "code",
   "execution_count": 80,
   "id": "53f7f1f1",
   "metadata": {},
   "outputs": [],
   "source": [
    "various_things[3] = 3.46"
   ]
  },
  {
   "cell_type": "code",
   "execution_count": 81,
   "id": "397beba4",
   "metadata": {},
   "outputs": [
    {
     "data": {
      "text/plain": [
       "[1, 2, 'banana', 3.46, [1, 2]]"
      ]
     },
     "execution_count": 81,
     "metadata": {},
     "output_type": "execute_result"
    }
   ],
   "source": [
    "various_things #lists are said to be mutable ie they are assigned to change"
   ]
  },
  {
   "cell_type": "code",
   "execution_count": 82,
   "id": "c846c5ff",
   "metadata": {},
   "outputs": [],
   "source": [
    "my_tuple = (\"Hello\", \"World\")"
   ]
  },
  {
   "cell_type": "code",
   "execution_count": 83,
   "id": "da37891c",
   "metadata": {},
   "outputs": [
    {
     "ename": "TypeError",
     "evalue": "'tuple' object does not support item assignment",
     "output_type": "error",
     "traceback": [
      "\u001b[1;31m---------------------------------------------------------------------------\u001b[0m",
      "\u001b[1;31mTypeError\u001b[0m                                 Traceback (most recent call last)",
      "\u001b[1;32m~\\AppData\\Local\\Temp\\ipykernel_8320\\3201009862.py\u001b[0m in \u001b[0;36m<module>\u001b[1;34m\u001b[0m\n\u001b[1;32m----> 1\u001b[1;33m \u001b[0mmy_tuple\u001b[0m\u001b[1;33m[\u001b[0m\u001b[1;36m0\u001b[0m\u001b[1;33m]\u001b[0m \u001b[1;33m=\u001b[0m\u001b[1;34m\"Goodbye\"\u001b[0m\u001b[1;33m\u001b[0m\u001b[1;33m\u001b[0m\u001b[0m\n\u001b[0m",
      "\u001b[1;31mTypeError\u001b[0m: 'tuple' object does not support item assignment"
     ]
    }
   ],
   "source": [
    "my_tuple[0] =\"Goodbye\" #tuples are immutable, they are not up for change"
   ]
  },
  {
   "cell_type": "code",
   "execution_count": 84,
   "id": "0e8f9156",
   "metadata": {},
   "outputs": [],
   "source": [
    "fish = \"Hake\""
   ]
  },
  {
   "cell_type": "code",
   "execution_count": 85,
   "id": "c5aac41d",
   "metadata": {},
   "outputs": [
    {
     "ename": "TypeError",
     "evalue": "'str' object does not support item assignment",
     "output_type": "error",
     "traceback": [
      "\u001b[1;31m---------------------------------------------------------------------------\u001b[0m",
      "\u001b[1;31mTypeError\u001b[0m                                 Traceback (most recent call last)",
      "\u001b[1;32m~\\AppData\\Local\\Temp\\ipykernel_8320\\3232833458.py\u001b[0m in \u001b[0;36m<module>\u001b[1;34m\u001b[0m\n\u001b[1;32m----> 1\u001b[1;33m \u001b[0mfish\u001b[0m \u001b[1;33m[\u001b[0m\u001b[1;36m0\u001b[0m\u001b[1;33m]\u001b[0m \u001b[1;33m=\u001b[0m \u001b[1;34m\"R\"\u001b[0m\u001b[1;33m\u001b[0m\u001b[1;33m\u001b[0m\u001b[0m\n\u001b[0m",
      "\u001b[1;31mTypeError\u001b[0m: 'str' object does not support item assignment"
     ]
    }
   ],
   "source": [
    "fish [0] = \"R\"  #strings does not allow change #dictionary is made upof key value words {}"
   ]
  },
  {
   "cell_type": "code",
   "execution_count": 86,
   "id": "45d5704f",
   "metadata": {},
   "outputs": [],
   "source": [
    "CourseGrade = {'DMA803':'A', 'FIN401':'B', 'MATH900':'A', 'FUN101':'A'}"
   ]
  },
  {
   "cell_type": "code",
   "execution_count": 107,
   "id": "a874c034",
   "metadata": {},
   "outputs": [
    {
     "ename": "AttributeError",
     "evalue": "'set' object has no attribute 'keys'",
     "output_type": "error",
     "traceback": [
      "\u001b[1;31m---------------------------------------------------------------------------\u001b[0m",
      "\u001b[1;31mAttributeError\u001b[0m                            Traceback (most recent call last)",
      "\u001b[1;32m~\\AppData\\Local\\Temp\\ipykernel_8320\\2894601858.py\u001b[0m in \u001b[0;36m<module>\u001b[1;34m\u001b[0m\n\u001b[1;32m----> 1\u001b[1;33m \u001b[0mCourseGrade\u001b[0m\u001b[1;33m.\u001b[0m\u001b[0mkeys\u001b[0m \u001b[1;33m(\u001b[0m\u001b[1;33m)\u001b[0m\u001b[1;33m\u001b[0m\u001b[1;33m\u001b[0m\u001b[0m\n\u001b[0m",
      "\u001b[1;31mAttributeError\u001b[0m: 'set' object has no attribute 'keys'"
     ]
    }
   ],
   "source": [
    "CourseGrade.keys ()"
   ]
  },
  {
   "cell_type": "code",
   "execution_count": null,
   "id": "49a3be7d",
   "metadata": {},
   "outputs": [],
   "source": [
    " I am learning python"
   ]
  },
  {
   "cell_type": "code",
   "execution_count": null,
   "id": "7bdca106",
   "metadata": {},
   "outputs": [],
   "source": []
  },
  {
   "cell_type": "code",
   "execution_count": null,
   "id": "dbcc82bf",
   "metadata": {},
   "outputs": [],
   "source": []
  }
 ],
 "metadata": {
  "kernelspec": {
   "display_name": "Python 3 (ipykernel)",
   "language": "python",
   "name": "python3"
  },
  "language_info": {
   "codemirror_mode": {
    "name": "ipython",
    "version": 3
   },
   "file_extension": ".py",
   "mimetype": "text/x-python",
   "name": "python",
   "nbconvert_exporter": "python",
   "pygments_lexer": "ipython3",
   "version": "3.9.13"
  }
 },
 "nbformat": 4,
 "nbformat_minor": 5
}
